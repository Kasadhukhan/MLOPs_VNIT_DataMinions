{
 "cells": [
  {
   "cell_type": "code",
   "execution_count": 1,
   "id": "f3166543-b3dd-4af3-aad9-751776bd8028",
   "metadata": {},
   "outputs": [
    {
     "name": "stdout",
     "output_type": "stream",
     "text": [
      "Downloading required NLTK data...\n"
     ]
    },
    {
     "name": "stderr",
     "output_type": "stream",
     "text": [
      "[nltk_data] Downloading package punkt to\n",
      "[nltk_data]     C:\\Users\\sadas\\AppData\\Roaming\\nltk_data...\n",
      "[nltk_data]   Package punkt is already up-to-date!\n",
      "[nltk_data] Downloading package stopwords to\n",
      "[nltk_data]     C:\\Users\\sadas\\AppData\\Roaming\\nltk_data...\n",
      "[nltk_data]   Package stopwords is already up-to-date!\n",
      "[nltk_data] Downloading package punkt_tab to\n",
      "[nltk_data]     C:\\Users\\sadas\\AppData\\Roaming\\nltk_data...\n"
     ]
    },
    {
     "name": "stdout",
     "output_type": "stream",
     "text": [
      "\n",
      "NLTK setup successful!\n"
     ]
    },
    {
     "name": "stderr",
     "output_type": "stream",
     "text": [
      "[nltk_data]   Package punkt_tab is already up-to-date!\n",
      "[nltk_data] Downloading package averaged_perceptron_tagger to\n",
      "[nltk_data]     C:\\Users\\sadas\\AppData\\Roaming\\nltk_data...\n",
      "[nltk_data]   Package averaged_perceptron_tagger is already up-to-\n",
      "[nltk_data]       date!\n"
     ]
    }
   ],
   "source": [
    "# Import required libraries\n",
    "import pandas as pd\n",
    "import numpy as np\n",
    "import nltk\n",
    "from nltk.corpus import stopwords\n",
    "from nltk.tokenize import word_tokenize\n",
    "import re\n",
    "import matplotlib.pyplot as plt\n",
    "import seaborn as sns\n",
    "%matplotlib inline\n",
    "\n",
    "# Download all required NLTK data\n",
    "print(\"Downloading required NLTK data...\")\n",
    "nltk.download('punkt')\n",
    "nltk.download('stopwords')\n",
    "nltk.download('punkt_tab')\n",
    "nltk.download('averaged_perceptron_tagger')\n",
    "\n",
    "# Verify downloads\n",
    "try:\n",
    "    # Test NLTK components\n",
    "    test_text = \"This is a test sentence.\"\n",
    "    tokens = word_tokenize(test_text)\n",
    "    stops = stopwords.words('english')\n",
    "    print(\"\\nNLTK setup successful!\")\n",
    "except LookupError as e:\n",
    "    print(\"Error: NLTK data not properly installed.\")\n",
    "    print(\"Please run the following commands:\")\n",
    "    print(\"import nltk\")\n",
    "    print(\"nltk.download('all')\")\n",
    "    raise e"
   ]
  },
  {
   "cell_type": "code",
   "execution_count": 2,
   "id": "def3b0f2-dc98-4c01-a3bf-987d50133be6",
   "metadata": {},
   "outputs": [
    {
     "name": "stdout",
     "output_type": "stream",
     "text": [
      "Dataset loaded successfully!\n",
      "Dataset Shape: (5574, 2)\n",
      "\n",
      "First few rows:\n"
     ]
    },
    {
     "data": {
      "text/html": [
       "<div>\n",
       "<style scoped>\n",
       "    .dataframe tbody tr th:only-of-type {\n",
       "        vertical-align: middle;\n",
       "    }\n",
       "\n",
       "    .dataframe tbody tr th {\n",
       "        vertical-align: top;\n",
       "    }\n",
       "\n",
       "    .dataframe thead th {\n",
       "        text-align: right;\n",
       "    }\n",
       "</style>\n",
       "<table border=\"1\" class=\"dataframe\">\n",
       "  <thead>\n",
       "    <tr style=\"text-align: right;\">\n",
       "      <th></th>\n",
       "      <th>sms</th>\n",
       "      <th>label</th>\n",
       "    </tr>\n",
       "  </thead>\n",
       "  <tbody>\n",
       "    <tr>\n",
       "      <th>0</th>\n",
       "      <td>Go until jurong point, crazy.. Available only ...</td>\n",
       "      <td>0</td>\n",
       "    </tr>\n",
       "    <tr>\n",
       "      <th>1</th>\n",
       "      <td>Ok lar... Joking wif u oni...\\n</td>\n",
       "      <td>0</td>\n",
       "    </tr>\n",
       "    <tr>\n",
       "      <th>2</th>\n",
       "      <td>Free entry in 2 a wkly comp to win FA Cup fina...</td>\n",
       "      <td>1</td>\n",
       "    </tr>\n",
       "    <tr>\n",
       "      <th>3</th>\n",
       "      <td>U dun say so early hor... U c already then say...</td>\n",
       "      <td>0</td>\n",
       "    </tr>\n",
       "    <tr>\n",
       "      <th>4</th>\n",
       "      <td>Nah I don't think he goes to usf, he lives aro...</td>\n",
       "      <td>0</td>\n",
       "    </tr>\n",
       "  </tbody>\n",
       "</table>\n",
       "</div>"
      ],
      "text/plain": [
       "                                                 sms  label\n",
       "0  Go until jurong point, crazy.. Available only ...      0\n",
       "1                    Ok lar... Joking wif u oni...\\n      0\n",
       "2  Free entry in 2 a wkly comp to win FA Cup fina...      1\n",
       "3  U dun say so early hor... U c already then say...      0\n",
       "4  Nah I don't think he goes to usf, he lives aro...      0"
      ]
     },
     "metadata": {},
     "output_type": "display_data"
    },
    {
     "name": "stdout",
     "output_type": "stream",
     "text": [
      "\n",
      "Missing values:\n",
      "sms      0\n",
      "label    0\n",
      "dtype: int64\n",
      "\n",
      "Class Distribution (%):\n",
      "label\n",
      "0    86.598493\n",
      "1    13.401507\n",
      "Name: proportion, dtype: float64\n"
     ]
    }
   ],
   "source": [
    "# Read the dataset\n",
    "try:\n",
    "    df = pd.read_csv('../data/train.csv')\n",
    "    print(\"Dataset loaded successfully!\")\n",
    "    print(\"Dataset Shape:\", df.shape)\n",
    "    print(\"\\nFirst few rows:\")\n",
    "    display(df.head())\n",
    "    \n",
    "    # Check for missing values\n",
    "    print(\"\\nMissing values:\")\n",
    "    print(df.isnull().sum())\n",
    "    \n",
    "    # Display class distribution\n",
    "    print(\"\\nClass Distribution (%):\")\n",
    "    print(df['label'].value_counts(normalize=True) * 100)\n",
    "except FileNotFoundError:\n",
    "    print(\"Error: Please make sure train.csv is in the data folder!\")\n"
   ]
  },
  {
   "cell_type": "code",
   "execution_count": 3,
   "id": "22263ed9-b561-4057-942f-e776d3e54214",
   "metadata": {},
   "outputs": [
    {
     "name": "stdout",
     "output_type": "stream",
     "text": [
      "Preprocessor initialized successfully!\n",
      "\n",
      "Testing preprocessor with: Hello, this is a test message!\n",
      "Cleaned result: hello test message\n"
     ]
    }
   ],
   "source": [
    "class TextPreprocessor:\n",
    "    def __init__(self):\n",
    "        # Initialize stopwords\n",
    "        try:\n",
    "            self.stop_words = set(stopwords.words('english'))\n",
    "            print(\"Preprocessor initialized successfully!\")\n",
    "        except LookupError:\n",
    "            print(\"Error: Stopwords not found. Downloading now...\")\n",
    "            nltk.download('stopwords')\n",
    "            self.stop_words = set(stopwords.words('english'))\n",
    "    \n",
    "    def clean_text(self, text):\n",
    "        \"\"\"Clean and preprocess text data\"\"\"\n",
    "        try:\n",
    "            # Convert to string and lowercase\n",
    "            text = str(text).lower()\n",
    "            \n",
    "            # Remove special characters and numbers\n",
    "            text = re.sub(r'[^a-zA-Z\\s]', '', text)\n",
    "            \n",
    "            # Simple word split instead of word_tokenize if NLTK fails\n",
    "            try:\n",
    "                tokens = word_tokenize(text)\n",
    "            except LookupError:\n",
    "                tokens = text.split()\n",
    "            \n",
    "            # Remove stopwords\n",
    "            tokens = [t for t in tokens if t not in self.stop_words]\n",
    "            \n",
    "            return ' '.join(tokens)\n",
    "        except Exception as e:\n",
    "            print(f\"Error processing text: {text}\")\n",
    "            print(f\"Error message: {str(e)}\")\n",
    "            return text  # Return original text if processing fails\n",
    "\n",
    "# Create preprocessor instance\n",
    "preprocessor = TextPreprocessor()\n",
    "\n",
    "# Test the preprocessor\n",
    "test_text = \"Hello, this is a test message!\"\n",
    "print(\"\\nTesting preprocessor with:\", test_text)\n",
    "print(\"Cleaned result:\", preprocessor.clean_text(test_text))"
   ]
  },
  {
   "cell_type": "code",
   "execution_count": 3,
   "id": "b3fcdcbe-cb9e-452a-b54a-48c87f61e49e",
   "metadata": {},
   "outputs": [
    {
     "name": "stdout",
     "output_type": "stream",
     "text": [
      "Starting text preprocessing...\n",
      "Error during preprocessing: name 'preprocessor' is not defined\n"
     ]
    }
   ],
   "source": [
    "# Process all texts with error handling\n",
    "print(\"Starting text preprocessing...\")\n",
    "try:\n",
    "    df['cleaned_text'] = df['sms'].apply(preprocessor.clean_text)\n",
    "    print(\"Text preprocessing completed successfully!\")\n",
    "    \n",
    "    # Show example\n",
    "    print(\"\\nPreprocessing Example:\")\n",
    "    idx = 0\n",
    "    print(\"Original:\", df['sms'][idx])\n",
    "    print(\"Cleaned:\", df['cleaned_text'][idx])\n",
    "except Exception as e:\n",
    "    print(\"Error during preprocessing:\", str(e))"
   ]
  },
  {
   "cell_type": "code",
   "execution_count": 5,
   "id": "fa1c8142-9fc4-4257-be6f-dffd7cd208b6",
   "metadata": {},
   "outputs": [
    {
     "data": {
      "image/png": "[encoded data removed]",
      "text/plain": [
       "<Figure size 1500x500 with 2 Axes>"
      ]
     },
     "metadata": {},
     "output_type": "display_data"
    },
    {
     "name": "stdout",
     "output_type": "stream",
     "text": [
      "\n",
      "Preprocessed data saved to: ../data/preprocessed_data.csv\n"
     ]
    }
   ],
   "source": [
    "try:\n",
    "    # Calculate text lengths\n",
    "    df['text_length'] = df['sms'].str.len()\n",
    "    df['cleaned_length'] = df['cleaned_text'].str.len()\n",
    "\n",
    "    # Create visualizations\n",
    "    plt.figure(figsize=(15, 5))\n",
    "\n",
    "    # Original text length distribution\n",
    "    plt.subplot(1, 2, 1)\n",
    "    sns.boxplot(x='label', y='text_length', data=df)\n",
    "    plt.title('Original Text Length by Class')\n",
    "    plt.ylabel('Length')\n",
    "    plt.xlabel('Class (0: Ham, 1: Spam)')\n",
    "\n",
    "    # Cleaned text length distribution\n",
    "    plt.subplot(1, 2, 2)\n",
    "    sns.boxplot(x='label', y='cleaned_length', data=df)\n",
    "    plt.title('Cleaned Text Length by Class')\n",
    "    plt.ylabel('Length')\n",
    "    plt.xlabel('Class (0: Ham, 1: Spam)')\n",
    "\n",
    "    plt.tight_layout()\n",
    "    plt.show()\n",
    "\n",
    "    # Save preprocessed data\n",
    "    output_path = '../data/preprocessed_data.csv'\n",
    "    df.to_csv(output_path, index=False)\n",
    "    print(f\"\\nPreprocessed data saved to: {output_path}\")\n",
    "except Exception as e:\n",
    "    print(\"Error during analysis:\", str(e))"
   ]
  },
  {
   "cell_type": "code",
   "execution_count": null,
   "id": "f24ba811-a25b-48df-bd06-a960abbffbd2",
   "metadata": {},
   "outputs": [],
   "source": []
  },
  {
   "cell_type": "code",
   "execution_count": null,
   "id": "6c78aeb5-1709-4c0b-94ad-0b1a3955c4ad",
   "metadata": {},
   "outputs": [],
   "source": []
  }
 ],
 "metadata": {
  "kernelspec": {
   "display_name": "Python 3 (ipykernel)",
   "language": "python",
   "name": "python3"
  },
  "language_info": {
   "codemirror_mode": {
    "name": "ipython",
    "version": 3
   },
   "file_extension": ".py",
   "mimetype": "text/x-python",
   "name": "python",
   "nbconvert_exporter": "python",
   "pygments_lexer": "ipython3",
   "version": "3.9.21"
  }
 },
 "nbformat": 4,
 "nbformat_minor": 5
}
